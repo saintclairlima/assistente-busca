{
 "cells": [
  {
   "cell_type": "code",
   "execution_count": null,
   "metadata": {
    "colab": {
     "base_uri": "https://localhost:8080/"
    },
    "executionInfo": {
     "elapsed": 25920,
     "status": "ok",
     "timestamp": 1740864518840,
     "user": {
      "displayName": "Saint-Clair da Cunha Lima",
      "userId": "01175553286469956991"
     },
     "user_tz": 180
    },
    "id": "4NxvGVDHS88y",
    "outputId": "de773033-2733-4146-cc08-ce7fc453580e"
   },
   "outputs": [],
   "source": [
    "from google.colab import drive\n",
    "drive.mount('/content/drive')"
   ]
  },
  {
   "cell_type": "code",
   "execution_count": null,
   "metadata": {
    "id": "kDlIJwYJQ1m1"
   },
   "outputs": [],
   "source": [
    "!apt install lshw\n",
    "!curl -fsSL https://ollama.com/install.sh | sh"
   ]
  },
  {
   "cell_type": "code",
   "execution_count": null,
   "metadata": {
    "id": "SWGd5SgnQ61U"
   },
   "outputs": [],
   "source": [
    "!nohup ollama serve &> /dev/null &"
   ]
  },
  {
   "cell_type": "code",
   "execution_count": null,
   "metadata": {
    "colab": {
     "base_uri": "https://localhost:8080/"
    },
    "collapsed": true,
    "executionInfo": {
     "elapsed": 527,
     "status": "ok",
     "timestamp": 1740866254988,
     "user": {
      "displayName": "Saint-Clair da Cunha Lima",
      "userId": "01175553286469956991"
     },
     "user_tz": 180
    },
    "id": "-D_pU74mQ8OH",
    "outputId": "41fa70dc-b806-4f0f-e0ac-65eff2371b01"
   },
   "outputs": [],
   "source": [
    "!ollama pull llama3.1"
   ]
  },
  {
   "cell_type": "code",
   "execution_count": null,
   "metadata": {
    "id": "9G2KVvDe17Oc"
   },
   "outputs": [],
   "source": [
    "!pip install chromadb sentence_transformers python-dotenv"
   ]
  },
  {
   "cell_type": "code",
   "execution_count": null,
   "metadata": {
    "colab": {
     "base_uri": "https://localhost:8080/"
    },
    "collapsed": true,
    "executionInfo": {
     "elapsed": 2994,
     "status": "ok",
     "timestamp": 1740866736201,
     "user": {
      "displayName": "Saint-Clair da Cunha Lima",
      "userId": "01175553286469956991"
     },
     "user_tz": 180
    },
    "id": "OHbNBcdmR50O",
    "outputId": "5ceb2bc1-c836-487d-ea2c-a1c73827e128"
   },
   "outputs": [],
   "source": [
    "!git clone https://github.com/saintclairlima/assistente-busca.git\n",
    "%cd /content/assistente-busca\n",
    "%cp api/.env.TEMPLATE api/.env\n",
    "%cp api/configuracoes/arq_conf_template.json api/configuracoes/arq_conf.json"
   ]
  },
  {
   "cell_type": "code",
   "execution_count": null,
   "metadata": {
    "id": "ZhLohdz21_kd"
   },
   "outputs": [],
   "source": [
    "%cd /content/assistente-busca\n",
    "!git pull"
   ]
  },
  {
   "cell_type": "code",
   "execution_count": null,
   "metadata": {
    "id": "OcIso1tCpSyT"
   },
   "outputs": [],
   "source": [
    "!unzip /content/assistente-busca/api/dados/bancos_vetores/bancos_vetores.zip -d api/dados/bancos_vetores"
   ]
  },
  {
   "cell_type": "code",
   "execution_count": null,
   "metadata": {
    "id": "K3l04_hmqPQc"
   },
   "outputs": [],
   "source": [
    "!nohup ollama serve &> /dev/null &"
   ]
  },
  {
   "cell_type": "code",
   "execution_count": null,
   "metadata": {
    "id": "StbOJF1qSD8W"
   },
   "outputs": [],
   "source": [
    "!python -m api.testes.gerador_perguntas --url_banco_vetorial \"api/dados/bancos_vetores/banco_assistente\" \\\n",
    "--nome_colecao \"documentos_rh_instructor\" \\\n",
    "--url_arquivo_saida \"/content/drive/MyDrive/ALRN-Docs/Chatbot/perguntas_documentos_rh.json\" \\\n",
    "--modelo_llm \"llama3.1\" \\\n",
    "#--url_llm \"http://localhost:11434\""
   ]
  }
 ],
 "metadata": {
  "accelerator": "GPU",
  "colab": {
   "gpuType": "T4",
   "provenance": []
  },
  "kernelspec": {
   "display_name": "Python 3",
   "name": "python3"
  },
  "language_info": {
   "name": "python"
  }
 },
 "nbformat": 4,
 "nbformat_minor": 0
}
