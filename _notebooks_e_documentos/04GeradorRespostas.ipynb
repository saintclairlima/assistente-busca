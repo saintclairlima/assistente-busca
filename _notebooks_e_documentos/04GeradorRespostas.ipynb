{
 "cells": [
  {
   "cell_type": "code",
   "execution_count": null,
   "metadata": {
    "colab": {
     "base_uri": "https://localhost:8080/"
    },
    "collapsed": true,
    "executionInfo": {
     "elapsed": 61072,
     "status": "ok",
     "timestamp": 1742343131863,
     "user": {
      "displayName": "Saint-Clair da Cunha Lima",
      "userId": "01175553286469956991"
     },
     "user_tz": 180
    },
    "id": "kDlIJwYJQ1m1",
    "outputId": "52068f9a-8d75-4236-bbae-30e7d318615e"
   },
   "outputs": [],
   "source": [
    "!apt install lshw\n",
    "!curl -fsSL https://ollama.com/install.sh | sh"
   ]
  },
  {
   "cell_type": "code",
   "execution_count": 4,
   "metadata": {
    "executionInfo": {
     "elapsed": 85,
     "status": "ok",
     "timestamp": 1742343157490,
     "user": {
      "displayName": "Saint-Clair da Cunha Lima",
      "userId": "01175553286469956991"
     },
     "user_tz": 180
    },
    "id": "SWGd5SgnQ61U"
   },
   "outputs": [],
   "source": [
    "!nohup ollama serve &> /dev/null &"
   ]
  },
  {
   "cell_type": "code",
   "execution_count": null,
   "metadata": {
    "colab": {
     "base_uri": "https://localhost:8080/"
    },
    "collapsed": true,
    "executionInfo": {
     "elapsed": 52191,
     "status": "ok",
     "timestamp": 1742343215777,
     "user": {
      "displayName": "Saint-Clair da Cunha Lima",
      "userId": "01175553286469956991"
     },
     "user_tz": 180
    },
    "id": "-D_pU74mQ8OH",
    "outputId": "55102bac-ee2a-4f5f-91e9-554c3e6457ee"
   },
   "outputs": [],
   "source": [
    "!ollama pull llama3.1"
   ]
  },
  {
   "cell_type": "code",
   "execution_count": null,
   "metadata": {
    "id": "HlUlpWFXSddt"
   },
   "outputs": [],
   "source": [
    "!ollama pull deepseek-r1:14b"
   ]
  },
  {
   "cell_type": "code",
   "execution_count": null,
   "metadata": {
    "colab": {
     "base_uri": "https://localhost:8080/"
    },
    "collapsed": true,
    "executionInfo": {
     "elapsed": 24216,
     "status": "ok",
     "timestamp": 1742343243684,
     "user": {
      "displayName": "Saint-Clair da Cunha Lima",
      "userId": "01175553286469956991"
     },
     "user_tz": 180
    },
    "id": "4NxvGVDHS88y",
    "outputId": "50bf73a5-ea49-466d-f002-24c606374114"
   },
   "outputs": [],
   "source": [
    "from google.colab import drive\n",
    "drive.mount('/content/drive')"
   ]
  },
  {
   "cell_type": "code",
   "execution_count": null,
   "metadata": {
    "colab": {
     "base_uri": "https://localhost:8080/"
    },
    "collapsed": true,
    "executionInfo": {
     "elapsed": 6889,
     "status": "ok",
     "timestamp": 1742343253344,
     "user": {
      "displayName": "Saint-Clair da Cunha Lima",
      "userId": "01175553286469956991"
     },
     "user_tz": 180
    },
    "id": "OHbNBcdmR50O",
    "outputId": "33252b0c-a0d8-40e9-975c-0d32727c07be"
   },
   "outputs": [],
   "source": [
    "!git clone https://github.com/saintclairlima/assistente-busca.git\n",
    "%cd /content/assistente-busca\n",
    "%cp api/.env.TEMPLATE api/.env\n",
    "%cp api/configuracoes/arq_conf_template.json api/configuracoes/arq_conf.json"
   ]
  },
  {
   "cell_type": "code",
   "execution_count": null,
   "metadata": {
    "colab": {
     "base_uri": "https://localhost:8080/"
    },
    "collapsed": true,
    "executionInfo": {
     "elapsed": 3010,
     "status": "ok",
     "timestamp": 1742343262146,
     "user": {
      "displayName": "Saint-Clair da Cunha Lima",
      "userId": "01175553286469956991"
     },
     "user_tz": 180
    },
    "id": "rEKS8SgwTrl_",
    "outputId": "4a536c96-94ea-41c2-d6aa-8a5d27f60c82"
   },
   "outputs": [],
   "source": [
    "!pip install dotenv"
   ]
  },
  {
   "cell_type": "code",
   "execution_count": null,
   "metadata": {
    "colab": {
     "base_uri": "https://localhost:8080/"
    },
    "executionInfo": {
     "elapsed": 42,
     "status": "ok",
     "timestamp": 1734224046232,
     "user": {
      "displayName": "Conta Família Lima",
      "userId": "13582729769716412879"
     },
     "user_tz": 180
    },
    "id": "ZhLohdz21_kd",
    "outputId": "6af57a37-59e4-4dfe-9d8d-b1c68aae62a1"
   },
   "outputs": [],
   "source": [
    "%cd /content/assistente-busca\n",
    "!git pull"
   ]
  },
  {
   "cell_type": "code",
   "execution_count": null,
   "metadata": {
    "id": "KOkf5bx_SZJq"
   },
   "outputs": [],
   "source": [
    "!nohup ollama serve &> /dev/null &"
   ]
  },
  {
   "cell_type": "code",
   "execution_count": null,
   "metadata": {
    "colab": {
     "base_uri": "https://localhost:8080/"
    },
    "collapsed": true,
    "id": "u4QWt4p3jXxl",
    "outputId": "d11e1ee9-1cb5-4cad-d60a-9ca399855104"
   },
   "outputs": [],
   "source": [
    "!python -m api.testes.avaliar_respostas_llama \\\n",
    "--url_arquivo_perguntas \"/content/drive/MyDrive/ALRN-Docs/Chatbot/Testes/perguntas_documentos_rh_simulacao_perguntas.json\" \\\n",
    "--modelos \"['llama3.1', 'deepseek-r1:14b']\""
   ]
  }
 ],
 "metadata": {
  "accelerator": "GPU",
  "colab": {
   "gpuType": "T4",
   "provenance": []
  },
  "kernelspec": {
   "display_name": "Python 3",
   "name": "python3"
  },
  "language_info": {
   "name": "python"
  }
 },
 "nbformat": 4,
 "nbformat_minor": 0
}
