{
 "cells": [
  {
   "cell_type": "code",
   "execution_count": null,
   "metadata": {
    "colab": {
     "base_uri": "https://localhost:8080/"
    },
    "collapsed": true,
    "executionInfo": {
     "elapsed": 9671,
     "status": "ok",
     "timestamp": 1741819130276,
     "user": {
      "displayName": "Saint-Clair da Cunha Lima",
      "userId": "01175553286469956991"
     },
     "user_tz": 180
    },
    "id": "OHbNBcdmR50O",
    "outputId": "f4ea3e3f-ece6-4448-f9c0-664286353769"
   },
   "outputs": [],
   "source": [
    "!git clone https://github.com/saintclairlima/assistente-busca.git\n",
    "%cd /content/assistente-busca\n",
    "%cp api/.env.TEMPLATE api/.env\n",
    "%cp api/configuracoes/arq_conf_template.json api/configuracoes/arq_conf.json"
   ]
  },
  {
   "cell_type": "code",
   "execution_count": null,
   "metadata": {
    "colab": {
     "base_uri": "https://localhost:8080/"
    },
    "collapsed": true,
    "executionInfo": {
     "elapsed": 111602,
     "status": "ok",
     "timestamp": 1741819241905,
     "user": {
      "displayName": "Saint-Clair da Cunha Lima",
      "userId": "01175553286469956991"
     },
     "user_tz": 180
    },
    "id": "9G2KVvDe17Oc",
    "outputId": "9286ec19-7f7c-404f-f12e-d6af81ade279"
   },
   "outputs": [],
   "source": [
    "!pip install chromadb sentence_transformers python-dotenv openai pypdf"
   ]
  },
  {
   "cell_type": "code",
   "execution_count": null,
   "metadata": {
    "colab": {
     "base_uri": "https://localhost:8080/"
    },
    "collapsed": true,
    "executionInfo": {
     "elapsed": 883,
     "status": "ok",
     "timestamp": 1741819249491,
     "user": {
      "displayName": "Saint-Clair da Cunha Lima",
      "userId": "01175553286469956991"
     },
     "user_tz": 180
    },
    "id": "ZhLohdz21_kd",
    "outputId": "5e757f91-d0fa-4042-8b8e-eb86a9412035"
   },
   "outputs": [],
   "source": [
    "%cd /content/assistente-busca\n",
    "!git pull"
   ]
  },
  {
   "cell_type": "code",
   "execution_count": null,
   "metadata": {
    "colab": {
     "base_uri": "https://localhost:8080/"
    },
    "collapsed": true,
    "executionInfo": {
     "elapsed": 56798,
     "status": "ok",
     "timestamp": 1741536105007,
     "user": {
      "displayName": "Saint-Clair da Cunha Lima",
      "userId": "01175553286469956991"
     },
     "user_tz": 180
    },
    "id": "HpOoISVyF834",
    "outputId": "1e6510e1-a9f0-468c-c81d-b42eac8911b5"
   },
   "outputs": [],
   "source": [
    "!apt install lshw\n",
    "!curl -fsSL https://ollama.com/install.sh | sh"
   ]
  },
  {
   "cell_type": "code",
   "execution_count": null,
   "metadata": {
    "id": "oL5L9Z84GEuc"
   },
   "outputs": [],
   "source": [
    "!nohup ollama serve &> /dev/null &"
   ]
  },
  {
   "cell_type": "code",
   "execution_count": null,
   "metadata": {
    "colab": {
     "background_save": true,
     "base_uri": "https://localhost:8080/"
    },
    "collapsed": true,
    "id": "xE4fUpmwGBm-",
    "outputId": "313f895d-dded-41d0-ee2c-f701c06add3e"
   },
   "outputs": [],
   "source": [
    "!ollama pull llama3.1\n",
    "!ollama pull deepseek-r1:14b"
   ]
  },
  {
   "cell_type": "code",
   "execution_count": null,
   "metadata": {
    "colab": {
     "base_uri": "https://localhost:8080/"
    },
    "collapsed": true,
    "executionInfo": {
     "elapsed": 366,
     "status": "ok",
     "timestamp": 1741819468331,
     "user": {
      "displayName": "Saint-Clair da Cunha Lima",
      "userId": "01175553286469956991"
     },
     "user_tz": 180
    },
    "id": "IMV-tu4OIwmn",
    "outputId": "493b22f7-1ecf-4a56-e2a0-f8b91d826405"
   },
   "outputs": [],
   "source": [
    "!unzip api/dados/bancos_vetores/bancos_vetores.zip -d api/dados/bancos_vetores"
   ]
  },
  {
   "cell_type": "code",
   "execution_count": null,
   "metadata": {
    "colab": {
     "base_uri": "https://localhost:8080/"
    },
    "collapsed": true,
    "executionInfo": {
     "elapsed": 10,
     "status": "ok",
     "timestamp": 1741531528446,
     "user": {
      "displayName": "Saint-Clair da Cunha Lima",
      "userId": "01175553286469956991"
     },
     "user_tz": 180
    },
    "id": "a-xtEh92JJ7M",
    "outputId": "9486522d-3c55-4bb1-e2f2-46893178b7a8"
   },
   "outputs": [],
   "source": [
    "#%env OPENAI_API_KEY="
   ]
  },
  {
   "cell_type": "code",
   "execution_count": null,
   "metadata": {
    "colab": {
     "base_uri": "https://localhost:8080/"
    },
    "collapsed": true,
    "executionInfo": {
     "elapsed": 1503888,
     "status": "ok",
     "timestamp": 1741821107347,
     "user": {
      "displayName": "Saint-Clair da Cunha Lima",
      "userId": "01175553286469956991"
     },
     "user_tz": 180
    },
    "id": "StbOJF1qSD8W",
    "outputId": "4ab52906-5e8c-40f1-d2b6-8d770e3906c4"
   },
   "outputs": [],
   "source": [
    "!python -m api.testes.avaliar_recuperacao_documentos \\\n",
    "--url_arq_fragmentos api/testes/resultados/perguntas_documentos_rh_gpt.json \\\n",
    "--url_banco_vetores api/dados/bancos_vetores/teste_instructor \\\n",
    "--url_arquivo_saida api/testes/resultados/perguntas_documentos_sumario.json\\\n",
    "--num_resultados 10 \\\n",
    "--gerar_relatorios_intermediarios True"
   ]
  },
  {
   "cell_type": "markdown",
   "metadata": {
    "id": "Bh8pXQH1qzyv"
   },
   "source": []
  }
 ],
 "metadata": {
  "accelerator": "GPU",
  "colab": {
   "gpuType": "T4",
   "provenance": []
  },
  "kernelspec": {
   "display_name": "Python 3",
   "name": "python3"
  },
  "language_info": {
   "name": "python"
  }
 },
 "nbformat": 4,
 "nbformat_minor": 0
}
