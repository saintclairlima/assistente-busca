{
 "cells": [
  {
   "cell_type": "code",
   "execution_count": null,
   "metadata": {
    "colab": {
     "base_uri": "https://localhost:8080/"
    },
    "collapsed": true,
    "executionInfo": {
     "elapsed": 9369,
     "status": "ok",
     "timestamp": 1741816964642,
     "user": {
      "displayName": "Saint-Clair da Cunha Lima",
      "userId": "01175553286469956991"
     },
     "user_tz": 180
    },
    "id": "-KHLu1q6oSRr",
    "outputId": "500e8402-3c15-4e0c-be6c-e4889c5c089b"
   },
   "outputs": [],
   "source": [
    "!git clone https://github.com/saintclairlima/assistente-busca.git\n",
    "%cd /content/assistente-busca\n",
    "%cp api/.env.TEMPLATE api/.env\n",
    "%cp api/configuracoes/arq_conf_template.json api/configuracoes/arq_conf.json"
   ]
  },
  {
   "cell_type": "code",
   "execution_count": null,
   "metadata": {
    "colab": {
     "base_uri": "https://localhost:8080/"
    },
    "collapsed": true,
    "executionInfo": {
     "elapsed": 121443,
     "status": "ok",
     "timestamp": 1741817089551,
     "user": {
      "displayName": "Saint-Clair da Cunha Lima",
      "userId": "01175553286469956991"
     },
     "user_tz": 180
    },
    "id": "Np7micK5RFfO",
    "outputId": "3ab2bd99-1b5e-49d5-9768-9cc106a6b468"
   },
   "outputs": [],
   "source": [
    "!pip install chromadb sentence_transformers python-dotenv pypdf bs4"
   ]
  },
  {
   "cell_type": "code",
   "execution_count": null,
   "metadata": {
    "colab": {
     "base_uri": "https://localhost:8080/"
    },
    "collapsed": true,
    "executionInfo": {
     "elapsed": 1416,
     "status": "ok",
     "timestamp": 1741817632270,
     "user": {
      "displayName": "Saint-Clair da Cunha Lima",
      "userId": "01175553286469956991"
     },
     "user_tz": 180
    },
    "id": "HBrIGfHicDqA",
    "outputId": "67202e8a-2598-405d-a3f7-793d4e0e748b"
   },
   "outputs": [],
   "source": [
    "%cd /content/assistente-busca\n",
    "!git pull"
   ]
  },
  {
   "cell_type": "code",
   "execution_count": null,
   "metadata": {
    "id": "O_pVVTH4M7Fo"
   },
   "outputs": [],
   "source": [
    "#%env OPENAI_API_KEY=\n",
    "#%env WANDB_API_KEY="
   ]
  },
  {
   "cell_type": "code",
   "execution_count": null,
   "metadata": {
    "colab": {
     "base_uri": "https://localhost:8080/"
    },
    "collapsed": true,
    "executionInfo": {
     "elapsed": 57929,
     "status": "ok",
     "timestamp": 1741214549714,
     "user": {
      "displayName": "Saint-Clair da Cunha Lima",
      "userId": "01175553286469956991"
     },
     "user_tz": 180
    },
    "id": "qGc_-IL-ovjD",
    "outputId": "17a958ed-0bbc-490b-b391-3a597076acbf"
   },
   "outputs": [],
   "source": [
    "!python -m api.dados.gerador_banco_vetores \\\n",
    "--nome_banco_vetores banco_assistente \\\n",
    "--lista_colecoes \"['documentos_rh_instructor', 'documentos_rh_openai', 'documentos_rh_alibaba', 'documentos_rh_llama', 'documentos_rh_bert_pt', 'documentos_rh_bge_m3']\" \\\n",
    "--lista_nomes_modelos_embeddings \"['hkunlp/instructor-xl', 'text-embedding-ada-002', 'Alibaba-NLP/gte-multilingual-base', 'llama3.1', 'pierreguillou/bert-base-cased-squad-v1.1-portuguese', 'BAAI/bge-m3']\" \\\n",
    "--comprimento_max_fragmento 300"
   ]
  },
  {
   "cell_type": "code",
   "execution_count": null,
   "metadata": {
    "colab": {
     "base_uri": "https://localhost:8080/"
    },
    "collapsed": true,
    "executionInfo": {
     "elapsed": 4244,
     "status": "ok",
     "timestamp": 1741214592275,
     "user": {
      "displayName": "Saint-Clair da Cunha Lima",
      "userId": "01175553286469956991"
     },
     "user_tz": 180
    },
    "id": "XEBCiKZCQsCR",
    "outputId": "9794ff3d-a5c5-40f2-d07d-d6571a7ba4d0"
   },
   "outputs": [],
   "source": [
    "!zip api/dados/bancos_vetores/banco_assistente.zip -r api/dados/bancos_vetores/banco_assistente"
   ]
  }
 ],
 "metadata": {
  "accelerator": "GPU",
  "colab": {
   "gpuType": "T4",
   "provenance": []
  },
  "kernelspec": {
   "display_name": "Python 3",
   "name": "python3"
  },
  "language_info": {
   "name": "python"
  }
 },
 "nbformat": 4,
 "nbformat_minor": 0
}
