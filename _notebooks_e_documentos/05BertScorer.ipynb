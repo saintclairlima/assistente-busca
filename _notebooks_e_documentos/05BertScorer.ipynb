{
 "cells": [
  {
   "cell_type": "code",
   "execution_count": null,
   "metadata": {
    "colab": {
     "base_uri": "https://localhost:8080/"
    },
    "collapsed": true,
    "executionInfo": {
     "elapsed": 4122,
     "status": "ok",
     "timestamp": 1734229603522,
     "user": {
      "displayName": "Conta Família Lima",
      "userId": "13582729769716412879"
     },
     "user_tz": 180
    },
    "id": "D2Zz3dtbLC5B",
    "outputId": "8f99612d-c96c-47b8-e02d-8b65b17bb01b"
   },
   "outputs": [],
   "source": [
    "!pip install bert-score"
   ]
  },
  {
   "cell_type": "code",
   "execution_count": null,
   "metadata": {
    "colab": {
     "base_uri": "https://localhost:8080/"
    },
    "collapsed": true,
    "executionInfo": {
     "elapsed": 201844,
     "status": "ok",
     "timestamp": 1734229822514,
     "user": {
      "displayName": "Conta Família Lima",
      "userId": "13582729769716412879"
     },
     "user_tz": 180
    },
    "id": "Pr1pN5QV-OMU",
    "outputId": "b96cbfc9-7b6a-41b1-97b6-3c2fc3e66a50"
   },
   "outputs": [],
   "source": [
    "!git clone https://github.com/saintclairlima/assistente-busca.git\n",
    "%cd /content/assistente-busca\n",
    "%cp api/.env.TEMPLATE api/.env\n",
    "%cp api/configuracoes/arq_conf_template.json api/configuracoes/arq_conf.json"
   ]
  },
  {
   "cell_type": "code",
   "execution_count": null,
   "metadata": {
    "colab": {
     "base_uri": "https://localhost:8080/"
    },
    "collapsed": true,
    "executionInfo": {
     "elapsed": 56329,
     "status": "ok",
     "timestamp": 1734229985049,
     "user": {
      "displayName": "Conta Família Lima",
      "userId": "13582729769716412879"
     },
     "user_tz": 180
    },
    "id": "X7q8UhnQIwIn",
    "outputId": "67f95f77-6046-4d87-df0c-78b2eabc67ce"
   },
   "outputs": [],
   "source": [
    "!python3 -m api.testes.bert_scorer --modelos_llm \"['llama3.1:latest', 'deepseek-r1:latest']\""
   ]
  }
 ],
 "metadata": {
  "accelerator": "GPU",
  "colab": {
   "gpuType": "T4",
   "provenance": []
  },
  "kernelspec": {
   "display_name": "Python 3",
   "name": "python3"
  },
  "language_info": {
   "name": "python"
  }
 },
 "nbformat": 4,
 "nbformat_minor": 0
}
